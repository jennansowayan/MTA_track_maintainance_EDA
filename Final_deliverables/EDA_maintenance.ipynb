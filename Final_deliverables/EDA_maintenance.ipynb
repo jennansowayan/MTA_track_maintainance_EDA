{
 "cells": [
  {
   "cell_type": "code",
   "execution_count": 3,
   "source": [
    "import pandas as pd\n",
    "import numpy as np\n",
    "\n",
    "\n",
    "def get_data(week_nums):\n",
    "    url = \"http://web.mta.info/developers/data/nyct/turnstile/turnstile_{}.txt\"\n",
    "    dfs = []\n",
    "    for week_num in week_nums:\n",
    "        file_url = url.format(week_num)\n",
    "        dfs.append(pd.read_csv(file_url))\n",
    "    return pd.concat(dfs)\n",
    "\n",
    "df = get_data([210807, 210814, 210821,210828, 210904, 210911 , 210918, 210925])\n",
    "df.info()\n",
    "\n"
   ],
   "outputs": [
    {
     "output_type": "stream",
     "name": "stdout",
     "text": [
      "<class 'pandas.core.frame.DataFrame'>\n",
      "Int64Index: 1676745 entries, 0 to 210399\n",
      "Data columns (total 11 columns):\n",
      " #   Column                                                                Non-Null Count    Dtype \n",
      "---  ------                                                                --------------    ----- \n",
      " 0   C/A                                                                   1676745 non-null  object\n",
      " 1   UNIT                                                                  1676745 non-null  object\n",
      " 2   SCP                                                                   1676745 non-null  object\n",
      " 3   STATION                                                               1676745 non-null  object\n",
      " 4   LINENAME                                                              1676745 non-null  object\n",
      " 5   DIVISION                                                              1676745 non-null  object\n",
      " 6   DATE                                                                  1676745 non-null  object\n",
      " 7   TIME                                                                  1676745 non-null  object\n",
      " 8   DESC                                                                  1676745 non-null  object\n",
      " 9   ENTRIES                                                               1676745 non-null  int64 \n",
      " 10  EXITS                                                                 1676745 non-null  int64 \n",
      "dtypes: int64(2), object(9)\n",
      "memory usage: 153.5+ MB\n"
     ]
    }
   ],
   "metadata": {}
  },
  {
   "cell_type": "code",
   "execution_count": 4,
   "source": [
    "df.rename(columns=lambda x: x.strip(), inplace= True)"
   ],
   "outputs": [],
   "metadata": {}
  },
  {
   "cell_type": "code",
   "execution_count": 5,
   "source": [
    "df[\"DATE_TIME\"] = pd.to_datetime(df.DATE + \" \" + df.TIME, \n",
    "                                            format=\"%m/%d/%Y %H:%M:%S\")"
   ],
   "outputs": [],
   "metadata": {}
  },
  {
   "cell_type": "code",
   "execution_count": 6,
   "source": [
    "df.sort_values([\"C/A\", \"UNIT\", \"SCP\", \"STATION\", \"DATE_TIME\"], \n",
    "                          inplace=True, ascending=False)\n",
    "df.drop_duplicates(subset=[\"C/A\", \"UNIT\", \"SCP\", \"STATION\", \"DATE_TIME\"], inplace=True)"
   ],
   "outputs": [],
   "metadata": {}
  },
  {
   "cell_type": "code",
   "execution_count": 7,
   "source": [
    "ts_daily = (df\n",
    "            .groupby([\"C/A\", \"UNIT\", \"SCP\", \"STATION\", \"LINENAME\" ,\"DATE_TIME\"],as_index=False)\n",
    "            .ENTRIES.first())\n"
   ],
   "outputs": [],
   "metadata": {}
  },
  {
   "cell_type": "code",
   "execution_count": 8,
   "source": [
    "ts_daily[[\"PREV_DATE\", \"PREV_ENTRIES\"]] = (ts_daily\n",
    "                                                       .groupby([\"C/A\", \"UNIT\", \"SCP\", \"STATION\",\"LINENAME\"])[\"DATE_TIME\",\"ENTRIES\"]\n",
    "                                                       .apply(lambda grp: grp.shift(1)))\n",
    "\n",
    "ts_daily.dropna(subset=[\"PREV_DATE\"], axis=0, inplace=True)"
   ],
   "outputs": [
    {
     "output_type": "stream",
     "name": "stderr",
     "text": [
      "<ipython-input-8-ab6322c01a46>:1: FutureWarning: Indexing with multiple keys (implicitly converted to a tuple of keys) will be deprecated, use a list instead.\n",
      "  ts_daily[[\"PREV_DATE\", \"PREV_ENTRIES\"]] = (ts_daily\n"
     ]
    }
   ],
   "metadata": {}
  },
  {
   "cell_type": "code",
   "execution_count": 9,
   "source": [
    "def get_daily_counts(row, max_counter):\n",
    "    counter = row[\"ENTRIES\"] - row[\"PREV_ENTRIES\"]\n",
    "    if counter < 0:\n",
    "        # Maybe counter is reversed?\n",
    "        counter = -counter\n",
    "    if counter > max_counter:\n",
    "        # Maybe counter was reset to 0? \n",
    "        print(row[\"ENTRIES\"], row[\"PREV_ENTRIES\"])\n",
    "        counter = min(row[\"ENTRIES\"], row[\"PREV_ENTRIES\"])\n",
    "    if counter > max_counter:\n",
    "        # Check it again to make sure we're not still giving a counter that's too big\n",
    "        return 0\n",
    "    return counter\n",
    "\n",
    "# If counter is > 1Million, then the counter might have been reset.  \n",
    "# Just set it to zero as different counters have different cycle limits\n",
    "# It'd probably be a good idea to use a number even significantly smaller than 1 million as the limit!\n",
    "ts_daily[\"ENTRIESbydt\"] = ts_daily.apply(get_daily_counts, axis=1, max_counter=1000000)"
   ],
   "outputs": [
    {
     "output_type": "stream",
     "name": "stdout",
     "text": [
      "167790067 702272.0\n",
      "151 5610355.0\n",
      "35 9769328.0\n",
      "33565227 188201.0\n",
      "31 8724126.0\n",
      "66 3272795.0\n",
      "15848006 2216515.0\n",
      "2216520 15848006.0\n",
      "10487784 2024.0\n",
      "2024 10487784.0\n",
      "14 1198448.0\n",
      "23 705357551.0\n",
      "6 16034831.0\n",
      "34 6214051.0\n",
      "37 1950780.0\n",
      "173 15689534.0\n",
      "8 1255797.0\n",
      "11123659 4624026.0\n",
      "5 11123659.0\n",
      "1891101745 1104755.0\n",
      "43 3154069.0\n",
      "56 3102579.0\n",
      "19 2570919.0\n",
      "50362839 251769.0\n",
      "26 6250045.0\n",
      "67 1040931990.0\n",
      "94 3530461.0\n",
      "5 1309264042.0\n",
      "1309264152 5.0\n",
      "201331802 798740.0\n",
      "25 5768873.0\n",
      "1089962288 146746691.0\n",
      "3538954 51735380.0\n",
      "0 2030205.0\n",
      "37 7682472.0\n",
      "1189019447 3740789.0\n",
      "346167 14045092.0\n",
      "14049774 346213.0\n",
      "774447 9475375.0\n",
      "9480674 774522.0\n",
      "7979566 789214.0\n",
      "794786 7979671.0\n",
      "1278449 8197329.0\n",
      "8204122 1278639.0\n",
      "635 4005927.0\n",
      "4006679 635.0\n",
      "8 1684120.0\n",
      "23 6481464.0\n",
      "34 1383110353.0\n"
     ]
    }
   ],
   "metadata": {}
  },
  {
   "cell_type": "code",
   "execution_count": 10,
   "source": [
    "ts_daily.drop(columns=['PREV_DATE', 'PREV_ENTRIES','ENTRIES'] ,inplace= True)"
   ],
   "outputs": [],
   "metadata": {}
  },
  {
   "cell_type": "code",
   "execution_count": 11,
   "source": [
    "ts_daily"
   ],
   "outputs": [
    {
     "output_type": "execute_result",
     "data": {
      "text/html": [
       "<div>\n",
       "<style scoped>\n",
       "    .dataframe tbody tr th:only-of-type {\n",
       "        vertical-align: middle;\n",
       "    }\n",
       "\n",
       "    .dataframe tbody tr th {\n",
       "        vertical-align: top;\n",
       "    }\n",
       "\n",
       "    .dataframe thead th {\n",
       "        text-align: right;\n",
       "    }\n",
       "</style>\n",
       "<table border=\"1\" class=\"dataframe\">\n",
       "  <thead>\n",
       "    <tr style=\"text-align: right;\">\n",
       "      <th></th>\n",
       "      <th>C/A</th>\n",
       "      <th>UNIT</th>\n",
       "      <th>SCP</th>\n",
       "      <th>STATION</th>\n",
       "      <th>LINENAME</th>\n",
       "      <th>DATE_TIME</th>\n",
       "      <th>ENTRIESbydt</th>\n",
       "    </tr>\n",
       "  </thead>\n",
       "  <tbody>\n",
       "    <tr>\n",
       "      <th>1</th>\n",
       "      <td>A002</td>\n",
       "      <td>R051</td>\n",
       "      <td>02-00-00</td>\n",
       "      <td>59 ST</td>\n",
       "      <td>NQR456W</td>\n",
       "      <td>2021-07-31 04:00:00</td>\n",
       "      <td>11.0</td>\n",
       "    </tr>\n",
       "    <tr>\n",
       "      <th>2</th>\n",
       "      <td>A002</td>\n",
       "      <td>R051</td>\n",
       "      <td>02-00-00</td>\n",
       "      <td>59 ST</td>\n",
       "      <td>NQR456W</td>\n",
       "      <td>2021-07-31 08:00:00</td>\n",
       "      <td>5.0</td>\n",
       "    </tr>\n",
       "    <tr>\n",
       "      <th>3</th>\n",
       "      <td>A002</td>\n",
       "      <td>R051</td>\n",
       "      <td>02-00-00</td>\n",
       "      <td>59 ST</td>\n",
       "      <td>NQR456W</td>\n",
       "      <td>2021-07-31 12:00:00</td>\n",
       "      <td>38.0</td>\n",
       "    </tr>\n",
       "    <tr>\n",
       "      <th>4</th>\n",
       "      <td>A002</td>\n",
       "      <td>R051</td>\n",
       "      <td>02-00-00</td>\n",
       "      <td>59 ST</td>\n",
       "      <td>NQR456W</td>\n",
       "      <td>2021-07-31 16:00:00</td>\n",
       "      <td>122.0</td>\n",
       "    </tr>\n",
       "    <tr>\n",
       "      <th>5</th>\n",
       "      <td>A002</td>\n",
       "      <td>R051</td>\n",
       "      <td>02-00-00</td>\n",
       "      <td>59 ST</td>\n",
       "      <td>NQR456W</td>\n",
       "      <td>2021-07-31 20:00:00</td>\n",
       "      <td>155.0</td>\n",
       "    </tr>\n",
       "    <tr>\n",
       "      <th>...</th>\n",
       "      <td>...</td>\n",
       "      <td>...</td>\n",
       "      <td>...</td>\n",
       "      <td>...</td>\n",
       "      <td>...</td>\n",
       "      <td>...</td>\n",
       "      <td>...</td>\n",
       "    </tr>\n",
       "    <tr>\n",
       "      <th>1676622</th>\n",
       "      <td>TRAM2</td>\n",
       "      <td>R469</td>\n",
       "      <td>00-05-01</td>\n",
       "      <td>RIT-ROOSEVELT</td>\n",
       "      <td>R</td>\n",
       "      <td>2021-09-24 05:00:00</td>\n",
       "      <td>0.0</td>\n",
       "    </tr>\n",
       "    <tr>\n",
       "      <th>1676623</th>\n",
       "      <td>TRAM2</td>\n",
       "      <td>R469</td>\n",
       "      <td>00-05-01</td>\n",
       "      <td>RIT-ROOSEVELT</td>\n",
       "      <td>R</td>\n",
       "      <td>2021-09-24 09:00:00</td>\n",
       "      <td>0.0</td>\n",
       "    </tr>\n",
       "    <tr>\n",
       "      <th>1676624</th>\n",
       "      <td>TRAM2</td>\n",
       "      <td>R469</td>\n",
       "      <td>00-05-01</td>\n",
       "      <td>RIT-ROOSEVELT</td>\n",
       "      <td>R</td>\n",
       "      <td>2021-09-24 13:00:00</td>\n",
       "      <td>0.0</td>\n",
       "    </tr>\n",
       "    <tr>\n",
       "      <th>1676625</th>\n",
       "      <td>TRAM2</td>\n",
       "      <td>R469</td>\n",
       "      <td>00-05-01</td>\n",
       "      <td>RIT-ROOSEVELT</td>\n",
       "      <td>R</td>\n",
       "      <td>2021-09-24 17:00:00</td>\n",
       "      <td>0.0</td>\n",
       "    </tr>\n",
       "    <tr>\n",
       "      <th>1676626</th>\n",
       "      <td>TRAM2</td>\n",
       "      <td>R469</td>\n",
       "      <td>00-05-01</td>\n",
       "      <td>RIT-ROOSEVELT</td>\n",
       "      <td>R</td>\n",
       "      <td>2021-09-24 21:00:00</td>\n",
       "      <td>0.0</td>\n",
       "    </tr>\n",
       "  </tbody>\n",
       "</table>\n",
       "<p>1671604 rows × 7 columns</p>\n",
       "</div>"
      ],
      "text/plain": [
       "           C/A  UNIT       SCP        STATION LINENAME           DATE_TIME  \\\n",
       "1         A002  R051  02-00-00          59 ST  NQR456W 2021-07-31 04:00:00   \n",
       "2         A002  R051  02-00-00          59 ST  NQR456W 2021-07-31 08:00:00   \n",
       "3         A002  R051  02-00-00          59 ST  NQR456W 2021-07-31 12:00:00   \n",
       "4         A002  R051  02-00-00          59 ST  NQR456W 2021-07-31 16:00:00   \n",
       "5         A002  R051  02-00-00          59 ST  NQR456W 2021-07-31 20:00:00   \n",
       "...        ...   ...       ...            ...      ...                 ...   \n",
       "1676622  TRAM2  R469  00-05-01  RIT-ROOSEVELT        R 2021-09-24 05:00:00   \n",
       "1676623  TRAM2  R469  00-05-01  RIT-ROOSEVELT        R 2021-09-24 09:00:00   \n",
       "1676624  TRAM2  R469  00-05-01  RIT-ROOSEVELT        R 2021-09-24 13:00:00   \n",
       "1676625  TRAM2  R469  00-05-01  RIT-ROOSEVELT        R 2021-09-24 17:00:00   \n",
       "1676626  TRAM2  R469  00-05-01  RIT-ROOSEVELT        R 2021-09-24 21:00:00   \n",
       "\n",
       "         ENTRIESbydt  \n",
       "1               11.0  \n",
       "2                5.0  \n",
       "3               38.0  \n",
       "4              122.0  \n",
       "5              155.0  \n",
       "...              ...  \n",
       "1676622          0.0  \n",
       "1676623          0.0  \n",
       "1676624          0.0  \n",
       "1676625          0.0  \n",
       "1676626          0.0  \n",
       "\n",
       "[1671604 rows x 7 columns]"
      ]
     },
     "metadata": {},
     "execution_count": 11
    }
   ],
   "metadata": {}
  },
  {
   "cell_type": "markdown",
   "source": [
    "add day col and take mean entries for each day of the week then choose a day"
   ],
   "metadata": {}
  },
  {
   "cell_type": "code",
   "execution_count": 12,
   "source": [
    " mask = (ts_daily.LINENAME.str.contains('1')) "
   ],
   "outputs": [],
   "metadata": {}
  },
  {
   "cell_type": "code",
   "execution_count": 13,
   "source": [
    "\n",
    "ts_daily = ts_daily[mask]\n"
   ],
   "outputs": [],
   "metadata": {}
  },
  {
   "cell_type": "code",
   "execution_count": 14,
   "source": [
    "ts_daily['DAY'] = ts_daily['DATE_TIME'].dt.day_name()"
   ],
   "outputs": [
    {
     "output_type": "stream",
     "name": "stderr",
     "text": [
      "<ipython-input-14-5fd5b192e335>:1: SettingWithCopyWarning: \n",
      "A value is trying to be set on a copy of a slice from a DataFrame.\n",
      "Try using .loc[row_indexer,col_indexer] = value instead\n",
      "\n",
      "See the caveats in the documentation: https://pandas.pydata.org/pandas-docs/stable/user_guide/indexing.html#returning-a-view-versus-a-copy\n",
      "  ts_daily['DAY'] = ts_daily['DATE_TIME'].dt.day_name()\n"
     ]
    }
   ],
   "metadata": {}
  },
  {
   "cell_type": "code",
   "execution_count": 15,
   "source": [
    "weeks = ts_daily.groupby('DAY').mean()\n"
   ],
   "outputs": [],
   "metadata": {}
  },
  {
   "cell_type": "code",
   "execution_count": 16,
   "source": [
    "mask = (ts_daily.DAY == 'Sunday') & (ts_daily.STATION == '34 ST-PENN STA') \n",
    "ts_daily = ts_daily[mask]\n",
    "ts_daily.set_index([\"DATE_TIME\"],inplace= True)\n"
   ],
   "outputs": [],
   "metadata": {}
  },
  {
   "cell_type": "code",
   "execution_count": 17,
   "source": [
    "x = ts_daily.between_time('00:00:00', '12:59:00')\n",
    "hours = x.groupby(x.index.hour).mean()\n",
    "h = ['12 AM','2 AM', '4 AM', '6 AM', '8 AM','10 AM', '12 PM']\n",
    "nh = []\n",
    "hours"
   ],
   "outputs": [
    {
     "output_type": "execute_result",
     "data": {
      "text/html": [
       "<div>\n",
       "<style scoped>\n",
       "    .dataframe tbody tr th:only-of-type {\n",
       "        vertical-align: middle;\n",
       "    }\n",
       "\n",
       "    .dataframe tbody tr th {\n",
       "        vertical-align: top;\n",
       "    }\n",
       "\n",
       "    .dataframe thead th {\n",
       "        text-align: right;\n",
       "    }\n",
       "</style>\n",
       "<table border=\"1\" class=\"dataframe\">\n",
       "  <thead>\n",
       "    <tr style=\"text-align: right;\">\n",
       "      <th></th>\n",
       "      <th>ENTRIESbydt</th>\n",
       "    </tr>\n",
       "    <tr>\n",
       "      <th>DATE_TIME</th>\n",
       "      <th></th>\n",
       "    </tr>\n",
       "  </thead>\n",
       "  <tbody>\n",
       "    <tr>\n",
       "      <th>0</th>\n",
       "      <td>45.200000</td>\n",
       "    </tr>\n",
       "    <tr>\n",
       "      <th>2</th>\n",
       "      <td>44.619289</td>\n",
       "    </tr>\n",
       "    <tr>\n",
       "      <th>4</th>\n",
       "      <td>9.652439</td>\n",
       "    </tr>\n",
       "    <tr>\n",
       "      <th>6</th>\n",
       "      <td>6.954315</td>\n",
       "    </tr>\n",
       "    <tr>\n",
       "      <th>8</th>\n",
       "      <td>8.634146</td>\n",
       "    </tr>\n",
       "    <tr>\n",
       "      <th>10</th>\n",
       "      <td>35.700508</td>\n",
       "    </tr>\n",
       "    <tr>\n",
       "      <th>12</th>\n",
       "      <td>25.242424</td>\n",
       "    </tr>\n",
       "  </tbody>\n",
       "</table>\n",
       "</div>"
      ],
      "text/plain": [
       "           ENTRIESbydt\n",
       "DATE_TIME             \n",
       "0            45.200000\n",
       "2            44.619289\n",
       "4             9.652439\n",
       "6             6.954315\n",
       "8             8.634146\n",
       "10           35.700508\n",
       "12           25.242424"
      ]
     },
     "metadata": {},
     "execution_count": 17
    }
   ],
   "metadata": {}
  },
  {
   "cell_type": "code",
   "execution_count": 26,
   "source": [
    "import seaborn as sns\n",
    "import matplotlib.pyplot as plt\n",
    "\n",
    "plt.style.use('presentation.mplstyle')\n",
    "plt.ylabel('Individual Entries')\n",
    "plt.title(\"Entries means in morning for line 1 34 ST-PENN STA\")\n",
    "\n",
    "sns.set_style(\"whitegrid\")\n",
    "sns.set_context(\"talk\")\n",
    "sns.color_palette(\"ch:s=.25,rot=-.25\", as_cmap=True)\n",
    "sns.barplot( x = h ,y = hours.ENTRIESbydt, data= hours,palette= \"Blues_r\")"
   ],
   "outputs": [
    {
     "output_type": "execute_result",
     "data": {
      "text/plain": [
       "<AxesSubplot:title={'center':'Entries means in morning for line 1 34 ST-PENN STA'}, ylabel='ENTRIESbydt'>"
      ]
     },
     "metadata": {},
     "execution_count": 26
    },
    {
     "output_type": "display_data",
     "data": {
      "image/png": "[encoded data removed]",
      "text/plain": [
       "<Figure size 720x720 with 1 Axes>"
      ]
     },
     "metadata": {}
    }
   ],
   "metadata": {}
  }
 ],
 "metadata": {
  "orig_nbformat": 4,
  "language_info": {
   "name": "python",
   "version": "3.8.8",
   "mimetype": "text/x-python",
   "codemirror_mode": {
    "name": "ipython",
    "version": 3
   },
   "pygments_lexer": "ipython3",
   "nbconvert_exporter": "python",
   "file_extension": ".py"
  },
  "kernelspec": {
   "name": "python3",
   "display_name": "Python 3.8.8 64-bit ('base': conda)"
  },
  "interpreter": {
   "hash": "f306c10009ed50d86f7ff2cd966e44aaadb56af043874905c1f47bb33c3456fc"
  }
 },
 "nbformat": 4,
 "nbformat_minor": 2
}